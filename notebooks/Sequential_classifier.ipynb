{
 "cells": [
  {
   "cell_type": "code",
   "execution_count": 1,
   "metadata": {},
   "outputs": [
    {
     "name": "stderr",
     "output_type": "stream",
     "text": [
      "Using TensorFlow backend.\n"
     ]
    }
   ],
   "source": [
    "import os\n",
    "from pathlib import Path\n",
    "import numpy as np\n",
    "from keras.preprocessing.image import ImageDataGenerator\n",
    "import tensorflow as tf\n",
    "from tensorflow.keras import layers\n",
    "from tensorflow.keras.models import Sequential\n",
    "from tensorflow.keras.layers import Conv2D, MaxPooling2D\n",
    "from tensorflow.keras.layers import Activation, Dropout, Flatten, Dense\n",
    "from keras import backend as K\n",
    "\n",
    "path = '../mergedData/'\n",
    "\n",
    "image_gen = ImageDataGenerator(validation_split=0.3)"
   ]
  },
  {
   "cell_type": "code",
   "execution_count": 82,
   "metadata": {},
   "outputs": [],
   "source": [
    "# here we have variables\n",
    "dim_x, dim_y = 100,100\n",
    "epochs = 10\n",
    "batch_size=32 # 64\n",
    "input_shape = (dim_x,dim_y,3) # miks see 3 siin??"
   ]
  },
  {
   "cell_type": "code",
   "execution_count": 105,
   "metadata": {},
   "outputs": [],
   "source": [
    "# here we have the model \n",
    "model = Sequential()\n",
    "model.add(Conv2D(32, (3, 3), input_shape=input_shape))\n",
    "model.add(Activation('relu'))\n",
    "model.add(MaxPooling2D(pool_size=(2, 2)))\n",
    "\n",
    "model.add(Conv2D(32, (3, 3)))\n",
    "model.add(Activation('relu'))\n",
    "model.add(MaxPooling2D(pool_size=(2, 2)))\n",
    "\n",
    "model.add(Conv2D(67, (3, 3)))\n",
    "model.add(Activation('relu'))\n",
    "model.add(MaxPooling2D(pool_size=(2, 2)))\n",
    "\n",
    "model.add(Flatten())\n",
    "model.add(Dense(67))\n",
    "model.add(Activation('relu'))\n",
    "model.add(Dropout(0.5))\n",
    "model.add(Dense(67))\n",
    "model.add(Activation('sigmoid'))\n",
    "\n",
    "model.compile(loss='binary_crossentropy',\n",
    "              optimizer='rmsprop',\n",
    "              metrics=['accuracy'])"
   ]
  },
  {
   "cell_type": "code",
   "execution_count": 103,
   "metadata": {},
   "outputs": [
    {
     "name": "stdout",
     "output_type": "stream",
     "text": [
      "Found 27680 images belonging to 67 classes.\n",
      "Found 11833 images belonging to 67 classes.\n",
      "Found 16999 images belonging to 67 classes.\n"
     ]
    }
   ],
   "source": [
    "train_generator = image_gen.flow_from_directory(\n",
    "    path + \"Training\", target_size=(100, 100),batch_size=batch_size, class_mode='categorical', subset='training')\n",
    "\n",
    "val_generator = image_gen.flow_from_directory(\n",
    "    path + \"Training\", target_size=(100, 100),batch_size=batch_size, class_mode='categorical', subset='validation')\n",
    "\n",
    "test_generator = image_gen.flow_from_directory(\n",
    "    path + \"Test\", target_size=(100, 100),batch_size=batch_size, class_mode='categorical')\n"
   ]
  },
  {
   "cell_type": "code",
   "execution_count": 106,
   "metadata": {},
   "outputs": [
    {
     "name": "stdout",
     "output_type": "stream",
     "text": [
      "Epoch 1/7\n",
      "433/433 [==============================] - 93s 215ms/step - loss: 0.1929 - accuracy: 0.1162 - val_loss: 0.0627 - val_accuracy: 0.3775\n",
      "Epoch 2/7\n",
      "433/433 [==============================] - 92s 212ms/step - loss: 0.0526 - accuracy: 0.4740 - val_loss: 0.0441 - val_accuracy: 0.6997\n",
      "Epoch 3/7\n",
      "433/433 [==============================] - 91s 211ms/step - loss: 0.0330 - accuracy: 0.7079 - val_loss: 0.0422 - val_accuracy: 0.7475\n",
      "Epoch 4/7\n",
      "433/433 [==============================] - 92s 212ms/step - loss: 0.0248 - accuracy: 0.8071 - val_loss: 0.0401 - val_accuracy: 0.7862\n",
      "Epoch 5/7\n",
      "433/433 [==============================] - 91s 211ms/step - loss: 0.0201 - accuracy: 0.8541 - val_loss: 0.0406 - val_accuracy: 0.8203\n",
      "Epoch 6/7\n",
      "433/433 [==============================] - 92s 213ms/step - loss: 0.0180 - accuracy: 0.8762 - val_loss: 0.0460 - val_accuracy: 0.8400\n",
      "Epoch 7/7\n",
      "433/433 [==============================] - 93s 214ms/step - loss: 0.0164 - accuracy: 0.8913 - val_loss: 0.0446 - val_accuracy: 0.8256\n"
     ]
    },
    {
     "data": {
      "text/plain": [
       "<tensorflow.python.keras.callbacks.History at 0x7f358d1b4be0>"
      ]
     },
     "execution_count": 106,
     "metadata": {},
     "output_type": "execute_result"
    }
   ],
   "source": [
    "model.fit_generator(\n",
    "        train_generator,\n",
    "        steps_per_epoch=433,\n",
    "        epochs=7,\n",
    "        validation_data=val_generator,\n",
    "        validation_steps=100)"
   ]
  },
  {
   "cell_type": "code",
   "execution_count": 107,
   "metadata": {},
   "outputs": [
    {
     "name": "stdout",
     "output_type": "stream",
     "text": [
      "532/532 [==============================] - 43s 80ms/step - loss: 0.0556 - accuracy: 0.7610\n",
      "[0.05561408773064613, 0.7610447406768799]\n"
     ]
    }
   ],
   "source": [
    "results = model.evaluate(test_generator)\n",
    "print(results)"
   ]
  },
  {
   "cell_type": "code",
   "execution_count": 97,
   "metadata": {},
   "outputs": [
    {
     "name": "stdout",
     "output_type": "stream",
     "text": [
      "Model: \"sequential_3\"\n",
      "_________________________________________________________________\n",
      "Layer (type)                 Output Shape              Param #   \n",
      "=================================================================\n",
      "conv2d_9 (Conv2D)            (None, 98, 98, 32)        896       \n",
      "_________________________________________________________________\n",
      "activation_15 (Activation)   (None, 98, 98, 32)        0         \n",
      "_________________________________________________________________\n",
      "max_pooling2d_9 (MaxPooling2 (None, 49, 49, 32)        0         \n",
      "_________________________________________________________________\n",
      "conv2d_10 (Conv2D)           (None, 47, 47, 32)        9248      \n",
      "_________________________________________________________________\n",
      "activation_16 (Activation)   (None, 47, 47, 32)        0         \n",
      "_________________________________________________________________\n",
      "max_pooling2d_10 (MaxPooling (None, 23, 23, 32)        0         \n",
      "_________________________________________________________________\n",
      "conv2d_11 (Conv2D)           (None, 21, 21, 68)        19652     \n",
      "_________________________________________________________________\n",
      "activation_17 (Activation)   (None, 21, 21, 68)        0         \n",
      "_________________________________________________________________\n",
      "max_pooling2d_11 (MaxPooling (None, 10, 10, 68)        0         \n",
      "_________________________________________________________________\n",
      "flatten_3 (Flatten)          (None, 6800)              0         \n",
      "_________________________________________________________________\n",
      "dense_6 (Dense)              (None, 68)                462468    \n",
      "_________________________________________________________________\n",
      "activation_18 (Activation)   (None, 68)                0         \n",
      "_________________________________________________________________\n",
      "dropout_3 (Dropout)          (None, 68)                0         \n",
      "_________________________________________________________________\n",
      "dense_7 (Dense)              (None, 68)                4692      \n",
      "_________________________________________________________________\n",
      "activation_19 (Activation)   (None, 68)                0         \n",
      "=================================================================\n",
      "Total params: 496,956\n",
      "Trainable params: 496,956\n",
      "Non-trainable params: 0\n",
      "_________________________________________________________________\n"
     ]
    }
   ],
   "source": [
    "model.summary()"
   ]
  },
  {
   "cell_type": "code",
   "execution_count": 164,
   "metadata": {},
   "outputs": [
    {
     "name": "stdout",
     "output_type": "stream",
     "text": [
      "INFO:tensorflow:Assets written to: saved_model/sequential3/assets\n"
     ]
    }
   ],
   "source": [
    "!mkdir -p saved_model\n",
    "model.save('saved_model/sequential3') \n",
    "new_model = tf.keras.models.load_model('saved_model/sequential3')\n"
   ]
  },
  {
   "cell_type": "code",
   "execution_count": 27,
   "metadata": {},
   "outputs": [
    {
     "data": {
      "text/plain": [
       "(2048, 1536, 3)"
      ]
     },
     "execution_count": 27,
     "metadata": {},
     "output_type": "execute_result"
    }
   ],
   "source": [
    "from keras.preprocessing.image import load_img, img_to_array\n",
    "onion_array = img_to_array(load_img('../onion.jpg'))\n",
    "onion_array.shape\n",
    "# data3 = np.arange()\n",
    "# onion_reshaped = np.reshape(onion_array, (64,32,1536,3))\n",
    "# model.predict(onion_reshaped)"
   ]
  },
  {
   "cell_type": "code",
   "execution_count": 159,
   "metadata": {},
   "outputs": [
    {
     "name": "stdout",
     "output_type": "stream",
     "text": [
      "Found 3 images belonging to 2 classes.\n"
     ]
    }
   ],
   "source": [
    "onion_generator = image_gen.flow_from_directory(\n",
    "    path + \"tests\", target_size=(100, 100),batch_size=1, class_mode='categorical', subset='training')"
   ]
  },
  {
   "cell_type": "code",
   "execution_count": 134,
   "metadata": {},
   "outputs": [
    {
     "data": {
      "text/plain": [
       "{'Banana': 0, 'Onion': 1}"
      ]
     },
     "execution_count": 134,
     "metadata": {},
     "output_type": "execute_result"
    }
   ],
   "source": [
    "onion_generator.class_indices"
   ]
  },
  {
   "cell_type": "code",
   "execution_count": 161,
   "metadata": {},
   "outputs": [],
   "source": [
    "results = model.predict(onion_generator)"
   ]
  },
  {
   "cell_type": "code",
   "execution_count": 162,
   "metadata": {},
   "outputs": [
    {
     "name": "stdout",
     "output_type": "stream",
     "text": [
      "[[3.39520114e-29 2.84526030e-37 1.32929796e-26 5.47081232e-04\n",
      "  2.98455663e-25 0.00000000e+00 1.60729591e-28 6.83248081e-23\n",
      "  4.13574538e-20 4.85210483e-11 4.84296124e-22 2.24601441e-32\n",
      "  6.87029428e-32 4.53936946e-35 9.06799655e-20 2.70010990e-25\n",
      "  7.85893462e-34 1.50178877e-25 3.54605802e-34 1.03229864e-11\n",
      "  1.45798235e-35 2.47272102e-30 1.92806971e-33 1.09735877e-24\n",
      "  4.84227764e-22 1.34903967e-37 5.16518823e-29 1.43870529e-36\n",
      "  3.26986974e-29 5.00170864e-37 5.93794682e-32 3.23642810e-35\n",
      "  4.15675609e-32 2.05258074e-36 7.69807139e-30 9.54609320e-34\n",
      "  7.73787255e-16 4.55359549e-33 6.35583086e-23 4.15583217e-34\n",
      "  1.35566450e-28 4.86399875e-20 0.00000000e+00 2.91628260e-28\n",
      "  1.86408621e-25 9.87396748e-30 1.11828995e-16 5.81755781e-13\n",
      "  5.00911213e-24 1.26480439e-21 9.40749959e-25 2.92694539e-30\n",
      "  2.00416047e-29 1.87747460e-32 0.00000000e+00 3.09109705e-20\n",
      "  8.66675562e-26 5.91167772e-34 2.54033505e-24 1.21635359e-31\n",
      "  0.00000000e+00 2.96461670e-27 2.72686661e-33 1.22915261e-31\n",
      "  2.36890310e-22 1.10090588e-24 2.99256063e-13]\n",
      " [1.96244774e-11 7.06459563e-14 9.94950178e-17 1.59065949e-09\n",
      "  2.54074475e-05 3.96821449e-20 2.00195610e-14 5.18363752e-09\n",
      "  9.19793674e-05 1.40569441e-13 2.86481509e-07 5.48174312e-16\n",
      "  6.14724157e-12 6.79059665e-15 6.18092513e-12 1.35482728e-01\n",
      "  5.80003148e-20 2.29479019e-10 2.84932329e-14 2.54693781e-13\n",
      "  3.70175299e-13 2.92874049e-17 4.67609946e-13 5.62701352e-08\n",
      "  9.59391682e-19 3.31048848e-19 1.06343989e-10 1.23429707e-17\n",
      "  3.19613113e-16 8.68960237e-10 1.29466071e-05 5.46282030e-12\n",
      "  2.44617632e-10 5.73932901e-09 2.81811137e-17 3.31169342e-16\n",
      "  7.94212140e-10 1.73412462e-15 6.00310448e-18 6.44209078e-13\n",
      "  2.38173196e-12 2.87188850e-15 7.62803584e-14 1.44716730e-11\n",
      "  3.02072066e-15 2.79144091e-15 8.72513084e-09 1.15102337e-08\n",
      "  1.33364519e-08 1.17701571e-09 4.82326991e-11 2.42215026e-10\n",
      "  2.30373721e-17 3.76881061e-11 9.03942211e-15 6.98298419e-10\n",
      "  2.46415283e-07 8.95272863e-17 2.12353423e-16 1.29487705e-14\n",
      "  1.07376629e-12 5.25129392e-14 1.02384705e-15 6.54926688e-14\n",
      "  2.43061016e-10 6.16445598e-19 9.39769933e-08]\n",
      " [8.91189195e-13 5.32341657e-15 3.78428879e-08 1.62978631e-06\n",
      "  4.95869699e-11 1.64077654e-13 1.52836910e-09 3.13925774e-10\n",
      "  1.07263091e-07 8.24179214e-09 9.07708042e-09 1.16315809e-14\n",
      "  1.35247756e-13 4.24104024e-12 3.18423326e-06 4.12971479e-09\n",
      "  3.61852273e-08 9.50910128e-10 1.74922646e-11 2.16115652e-07\n",
      "  1.73328233e-14 6.84764609e-14 3.04616223e-14 1.41348513e-14\n",
      "  1.53929602e-09 1.75483869e-17 3.81028438e-11 1.59113496e-14\n",
      "  1.45890990e-11 6.17667918e-13 6.30588111e-14 1.23427540e-14\n",
      "  6.69700244e-13 4.50098062e-15 1.54090336e-12 7.48469949e-12\n",
      "  3.59291386e-14 3.57000984e-10 3.75811908e-07 1.05892920e-12\n",
      "  6.76449023e-13 7.87111834e-11 2.28662789e-18 1.29218772e-14\n",
      "  4.59713050e-08 3.16151077e-16 3.75774611e-09 5.46563446e-12\n",
      "  1.21457384e-11 1.70819521e-06 2.87801027e-04 2.19521984e-10\n",
      "  2.70127420e-10 1.58386954e-12 1.73702370e-16 1.75346543e-11\n",
      "  4.78220740e-17 1.06580147e-10 2.92605307e-07 8.97889096e-10\n",
      "  2.23482745e-13 1.39798021e-06 7.13711208e-13 6.80531742e-10\n",
      "  2.76771273e-10 7.98701105e-10 1.05258316e-10]]\n",
      "1.5906595e-09\n",
      "1.5906595e-09\n",
      "0.13561378\n"
     ]
    },
    {
     "data": {
      "text/plain": [
       "array([ 3, 15, 50])"
      ]
     },
     "execution_count": 162,
     "metadata": {},
     "output_type": "execute_result"
    }
   ],
   "source": [
    "print(results)\n",
    "print(results[1][3])\n",
    "print(results[1][3])\n",
    "print(np.sum(results[1]))\n",
    "\n",
    "# model.evaluate(onion_generator)\n",
    "results.argmax(axis=-1)"
   ]
  },
  {
   "cell_type": "code",
   "execution_count": 163,
   "metadata": {},
   "outputs": [
    {
     "data": {
      "text/plain": [
       "array([15,  3, 50])"
      ]
     },
     "execution_count": 163,
     "metadata": {},
     "output_type": "execute_result"
    }
   ],
   "source": [
    "model.predict_classes(onion_generator)"
   ]
  },
  {
   "cell_type": "code",
   "execution_count": null,
   "metadata": {},
   "outputs": [],
   "source": []
  }
 ],
 "metadata": {
  "kernelspec": {
   "display_name": "Python 3",
   "language": "python",
   "name": "python3"
  },
  "language_info": {
   "codemirror_mode": {
    "name": "ipython",
    "version": 3
   },
   "file_extension": ".py",
   "mimetype": "text/x-python",
   "name": "python",
   "nbconvert_exporter": "python",
   "pygments_lexer": "ipython3",
   "version": "3.7.3"
  }
 },
 "nbformat": 4,
 "nbformat_minor": 2
}
