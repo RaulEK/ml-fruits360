{
 "cells": [
  {
   "cell_type": "code",
   "execution_count": 1,
   "metadata": {},
   "outputs": [],
   "source": [
    "from tensorflow.keras import callbacks, optimizers\n",
    "from yolov4.tf import SaveWeightsCallback, YOLOv4\n",
    "from yolov4.tflite import YOLOv4 as YOLOv4tflite\n",
    "import time\n"
   ]
  },
  {
   "cell_type": "code",
   "execution_count": 2,
   "metadata": {},
   "outputs": [],
   "source": [
    "#yolo = YOLOv4tflite(tiny=True)\n",
    "#yolo.load_tflite(\"yolov4_416x550_fruits_20epochs.tflite\")\n",
    "\n",
    "yolo = YOLOv4(tiny=True)\n",
    "yolo.classes = \"../data/fruits-360/train-multiple_fruits_yolov4/_classes.txt\"\n",
    "yolo.input_size = (416, 544)\n",
    "yolo.batch_size = 32\n",
    "yolo.make_model()\n"
   ]
  },
  {
   "cell_type": "code",
   "execution_count": 3,
   "metadata": {},
   "outputs": [],
   "source": [
    "train_data_set = yolo.load_dataset(\n",
    "    \"../data/fruits-360/train-multiple_fruits_yolov4/train_annotations.txt\",\n",
    "    image_path_prefix=\"../data/fruits-360/train-multiple_fruits_yolov4/train\",\n",
    "    label_smoothing=0.05\n",
    ")\n",
    "val_data_set = yolo.load_dataset(\n",
    "    \"../data/fruits-360/train-multiple_fruits_yolov4/valid_annotations.txt\",\n",
    "    image_path_prefix=\"../data/fruits-360/train-multiple_fruits_yolov4/valid\",\n",
    "    training=False\n",
    ")\n",
    "\n",
    "yolo.load_weights(\"yolov4-tiny-40epochs.weights\", weights_type=\"yolo\")"
   ]
  },
  {
   "cell_type": "code",
   "execution_count": null,
   "metadata": {},
   "outputs": [
    {
     "name": "stdout",
     "output_type": "stream",
     "text": [
      "Epoch 1/40\n",
      "grid: 34*26 iou_loss: 4.97821 conf_loss: 9.04896 prob_loss: 23.0499363 total_loss 37.0771065\n",
      "grid: 17*13 iou_loss: 4.67768145 conf_loss: 3.02762318 prob_loss: 17.8008957 total_loss 25.5061989\n",
      "grid: 34*26 iou_loss: 6.48128843 conf_loss: 11.6896763 prob_loss: 28.5652504 total_loss 46.7362175\n",
      "grid: 17*13 iou_loss: 4.71781445 conf_loss: 4.06968117 prob_loss: 18.8145466 total_loss 27.6020432\n",
      "WARNING:tensorflow:From /home/karl/.local/lib/python3.6/site-packages/tensorflow/python/ops/summary_ops_v2.py:1277: stop (from tensorflow.python.eager.profiler) is deprecated and will be removed after 2020-07-01.\n",
      "Instructions for updating:\n",
      "use `tf.profiler.experimental.stop` instead.\n",
      "grid: 34*26 iou_loss: 3.385952 conf_loss: 5.86842299 prob_loss: 19.244978 total_loss 28.4993534\n",
      "grid: 17*13 iou_loss: 3.0631671 conf_loss: 1.64668179 prob_loss: 15.038785 total_loss 19.7486343\n",
      "grid: 34*26 iou_loss: 4.24677801 conf_loss: 9.13822937 prob_loss: 23.6104259 total_loss 36.9954338\n",
      "grid: 17*13 iou_loss: 4.02237606 conf_loss: 4.77112722 prob_loss: 18.5598869 total_loss 27.3533897\n",
      "grid: 34*26 iou_loss: 4.45701408 conf_loss: 8.74619865 prob_loss: 24.0820084 total_loss 37.2852249\n",
      "grid: 17*13 iou_loss: 4.11870432 conf_loss: 3.65764832 prob_loss: 17.4769917 total_loss 25.2533436\n",
      "grid: 34*26 iou_loss: 3.09645748 conf_loss: 6.16235399 prob_loss: 17.8139782 total_loss 27.0727882\n",
      "grid: 17*13 iou_loss: 2.49233103 conf_loss: 1.3251214 prob_loss: 12.2720556 total_loss 16.0895081\n",
      "grid: 34*26 iou_loss: 4.11497402 conf_loss: 7.02571964 prob_loss: 22.4085808 total_loss 33.5492744\n",
      "grid: 17*13 iou_loss: 3.197402 conf_loss: 1.52160347 prob_loss: 16.721468 total_loss 21.4404716\n",
      "grid: 34*26 iou_loss: 4.55698872 conf_loss: 8.74103355 prob_loss: 21.2025032 total_loss 34.5005264\n",
      "grid: 17*13 iou_loss: 3.51206398 conf_loss: 1.77760732 prob_loss: 16.2162437 total_loss 21.5059147\n",
      "grid: 34*26 iou_loss: 7.99350262 conf_loss: 14.0701542 prob_loss: 31.9393559 total_loss 54.0030136\n",
      "grid: 17*13 iou_loss: 5.85698509 conf_loss: 5.20457458 prob_loss: 20.9295158 total_loss 31.9910755\n",
      "grid: 34*26 iou_loss: 4.49189377 conf_loss: 9.56679 prob_loss: 20.8904209 total_loss 34.9491043\n",
      "grid: 17*13 iou_loss: 3.71775341 conf_loss: 3.51566601 prob_loss: 14.3837757 total_loss 21.6171951\n",
      "grid: 34*26 iou_loss: 3.63812184 conf_loss: 6.70754766 prob_loss: 20.9366646 total_loss 31.2823353\n",
      "grid: 17*13 iou_loss: 2.68058348 conf_loss: 1.37288857 prob_loss: 14.3320866 total_loss 18.3855591\n",
      "grid: 34*26 iou_loss: 4.91684484 conf_loss: 9.81477833 prob_loss: 21.9245796 total_loss 36.6562\n",
      "grid: 17*13 iou_loss: 3.61356449 conf_loss: 3.83319783 prob_loss: 14.9860497 total_loss 22.4328117\n",
      "grid: 34*26 iou_loss: 4.95087051 conf_loss: 10.0761194 prob_loss: 23.669384 total_loss 38.696373\n",
      "grid: 17*13 iou_loss: 4.28648281 conf_loss: 3.12868929 prob_loss: 16.8322144 total_loss 24.2473869\n",
      "grid: 34*26 iou_loss: 5.33938456 conf_loss: 10.1039591 prob_loss: 22.9171753 total_loss 38.3605194\n",
      "grid: 17*13 iou_loss: 3.78582954 conf_loss: 2.73724556 prob_loss: 16.1584301 total_loss 22.6815052\n",
      "grid: 34*26 iou_loss: 2.48364687 conf_loss: 5.91376066 prob_loss: 13.5761986 total_loss 21.9736061\n",
      "grid: 17*13 iou_loss: 2.4152112 conf_loss: 1.42854977 prob_loss: 9.86966228 total_loss 13.7134228\n",
      "grid: 34*26 iou_loss: 4.42310333 conf_loss: 7.99934864 prob_loss: 19.6875229 total_loss 32.1099739\n",
      "grid: 17*13 iou_loss: 3.26007986 conf_loss: 1.79280949 prob_loss: 13.0108089 total_loss 18.0636978\n",
      "grid: 34*26 iou_loss: 4.71418762 conf_loss: 8.82955933 prob_loss: 21.5623627 total_loss 35.1061096\n",
      "grid: 17*13 iou_loss: 3.54188108 conf_loss: 2.49560738 prob_loss: 14.8079185 total_loss 20.8454075\n",
      "grid: 34*26 iou_loss: 3.8328476 conf_loss: 7.11250353 prob_loss: 18.3108521 total_loss 29.2562027\n",
      "grid: 17*13 iou_loss: 2.51099205 conf_loss: 1.32262063 prob_loss: 13.5079651 total_loss 17.3415775\n",
      "grid: 34*26 iou_loss: 5.58486557 conf_loss: 10.3101864 prob_loss: 22.965353 total_loss 38.860405\n",
      "grid: 17*13 iou_loss: 3.01786089 conf_loss: 1.7979244 prob_loss: 13.6320238 total_loss 18.4478092\n",
      "grid: 34*26 iou_loss: 3.30181789 conf_loss: 6.78781605 prob_loss: 20.159174 total_loss 30.2488098\n",
      "grid: 17*13 iou_loss: 2.8979826 conf_loss: 1.8286854 prob_loss: 14.7393274 total_loss 19.4659958\n",
      "grid: 34*26 iou_loss: 4.39576054 conf_loss: 8.93220139 prob_loss: 21.3326721 total_loss 34.6606331\n",
      "grid: 17*13 iou_loss: 3.24266982 conf_loss: 3.03561187 prob_loss: 14.269249 total_loss 20.5475311\n",
      "grid: 34*26 iou_loss: 3.50540113 conf_loss: 7.61353588 prob_loss: 19.3071556 total_loss 30.4260941\n",
      "grid: 17*13 iou_loss: 3.32373285 conf_loss: 1.8183825 prob_loss: 14.7283878 total_loss 19.8705025\n",
      "grid: 34*26 iou_loss: 5.09836388 conf_loss: 9.43534184 prob_loss: 24.2452164 total_loss 38.778923\n",
      "grid: 17*13 iou_loss: 4.16690445 conf_loss: 3.28082418 prob_loss: 17.5273151 total_loss 24.9750443\n",
      "grid: 34*26 iou_loss: 3.96423674 conf_loss: 7.04533529 prob_loss: 20.2536736 total_loss 31.2632465\n",
      "grid: 17*13 iou_loss: 3.40367079 conf_loss: 1.62767649 prob_loss: 16.1680222 total_loss 21.1993694\n",
      "grid: 34*26 iou_loss: 4.00891495 conf_loss: 8.41859055 prob_loss: 19.5794601 total_loss 32.0069656\n",
      "grid: 17*13 iou_loss: 2.90593362 conf_loss: 2.28950644 prob_loss: 14.4966145 total_loss 19.6920547\n",
      "grid: 34*26 iou_loss: 5.53829718 conf_loss: 9.37930298 prob_loss: 23.1150436 total_loss 38.0326424\n",
      "grid: 17*13 iou_loss: 3.92364335 conf_loss: 2.26686096 prob_loss: 15.3156586 total_loss 21.5061626\n",
      "grid: 34*26 iou_loss: 3.38116479 conf_loss: 7.4681735 prob_loss: 18.2287827 total_loss 29.0781212\n",
      "grid: 17*13 iou_loss: 2.67008448 conf_loss: 1.81622505 prob_loss: 12.5702486 total_loss 17.0565586\n",
      "grid: 34*26 iou_loss: 4.6907053 conf_loss: 9.64707184 prob_loss: 26.7957458 total_loss 41.133522\n",
      "grid: 17*13 iou_loss: 4.59675 conf_loss: 4.38240051 prob_loss: 21.1695404 total_loss 30.1486912\n",
      "grid: 34*26 iou_loss: 5.18312836 conf_loss: 9.66493511 prob_loss: 20.873085 total_loss 35.7211494\n",
      "grid: 17*13 iou_loss: 3.62760782 conf_loss: 2.76503277 prob_loss: 15.0394688 total_loss 21.4321079\n",
      "grid: 34*26 iou_loss: 3.85071158 conf_loss: 7.00288 prob_loss: 20.231514 total_loss 31.0851059\n",
      "grid: 17*13 iou_loss: 3.19541168 conf_loss: 1.96238637 prob_loss: 15.8164024 total_loss 20.9742012\n",
      "grid: 34*26 iou_loss: 5.00104284 conf_loss: 8.98131943 prob_loss: 22.8164062 total_loss 36.7987671\n",
      "grid: 17*13 iou_loss: 3.29683399 conf_loss: 2.29491854 prob_loss: 15.1706505 total_loss 20.7624016\n",
      "grid: 34*26 iou_loss: 3.42492914 conf_loss: 6.38866615 prob_loss: 17.1076736 total_loss 26.9212685\n",
      "grid: 17*13 iou_loss: 2.52812052 conf_loss: 1.27755976 prob_loss: 12.2540197 total_loss 16.0597\n",
      "grid: 34*26 iou_loss: 4.82301235 conf_loss: 7.57936764 prob_loss: 18.8860321 total_loss 31.288414\n",
      "grid: 17*13 iou_loss: 3.1196866 conf_loss: 1.36464262 prob_loss: 12.6787395 total_loss 17.1630688\n",
      "grid: 34*26 iou_loss: 6.42182446 conf_loss: 14.0948133 prob_loss: 25.0844498 total_loss 45.6010895\n",
      "grid: 17*13 iou_loss: 5.5650878 conf_loss: 8.52720356 prob_loss: 20.553997 total_loss 34.646286\n",
      "grid: 34*26 iou_loss: 4.87365913 conf_loss: 9.41375542 prob_loss: 23.2128334 total_loss 37.5002441\n",
      "grid: 17*13 iou_loss: 3.94710922 conf_loss: 3.59361172 prob_loss: 16.459322 total_loss 24.000042\n",
      "grid: 34*26 iou_loss: 3.49452972 conf_loss: 6.85856342 prob_loss: 18.6912308 total_loss 29.044323\n",
      "grid: 17*13 iou_loss: 2.78173923 conf_loss: 1.91845417 prob_loss: 13.4070005 total_loss 18.107193\n",
      "grid: 34*26 iou_loss: 6.09705877 conf_loss: 9.95344543 prob_loss: 26.9562206 total_loss 43.0067253\n",
      "grid: 17*13 iou_loss: 4.77419901 conf_loss: 2.54261279 prob_loss: 20.314537 total_loss 27.6313477\n",
      "grid: 34*26 iou_loss: 5.0081687 conf_loss: 9.28572655 prob_loss: 23.2076054 total_loss 37.5015\n",
      "grid: 17*13 iou_loss: 3.66331291 conf_loss: 2.43543 prob_loss: 16.4209747 total_loss 22.5197182\n",
      "grid: 34*26 iou_loss: 4.54862785 conf_loss: 8.53252411 prob_loss: 22.3153725 total_loss 35.3965225\n",
      "grid: 17*13 iou_loss: 3.6449151 conf_loss: 2.42298627 prob_loss: 16.0533104 total_loss 22.121212\n",
      "grid: 34*26 iou_loss: 4.52053833 conf_loss: 8.40306282 prob_loss: 23.1468811 total_loss 36.0704803\n",
      "grid: 17*13 iou_loss: 3.22293377 conf_loss: 2.1182251 prob_loss: 14.4352713 total_loss 19.776432\n",
      "grid: 34*26 iou_loss: 4.31257296 conf_loss: 7.31977654 prob_loss: 20.5787239 total_loss 32.2110748\n"
     ]
    },
    {
     "name": "stdout",
     "output_type": "stream",
     "text": [
      "grid: 17*13 iou_loss: 3.32010269 conf_loss: 2.05515623 prob_loss: 15.2924385 total_loss 20.6676979\n",
      "grid: 34*26 iou_loss: 6.86970377 conf_loss: 13.7724791 prob_loss: 27.4335213 total_loss 48.0757065\n",
      "grid: 17*13 iou_loss: 5.28321552 conf_loss: 4.64606428 prob_loss: 19.4568825 total_loss 29.3861618\n",
      "grid: 34*26 iou_loss: 2.76684189 conf_loss: 5.99604225 prob_loss: 13.2461281 total_loss 22.0090122\n",
      "grid: 17*13 iou_loss: 2.24005365 conf_loss: 1.42051697 prob_loss: 10.2821312 total_loss 13.9427013\n",
      "grid: 34*26 iou_loss: 6.42264843 conf_loss: 11.6841259 prob_loss: 22.6263733 total_loss 40.7331505\n",
      "grid: 17*13 iou_loss: 4.81540251 conf_loss: 3.77927017 prob_loss: 16.4637604 total_loss 25.0584335\n",
      "grid: 34*26 iou_loss: 6.45427465 conf_loss: 9.65855122 prob_loss: 23.7830925 total_loss 39.895916\n",
      "grid: 17*13 iou_loss: 3.90379071 conf_loss: 2.58831167 prob_loss: 14.4359436 total_loss 20.9280472\n",
      "grid: 34*26 iou_loss: 3.22280931 conf_loss: 6.22612572 prob_loss: 17.3411484 total_loss 26.7900829\n",
      "grid: 17*13 iou_loss: 2.68637562 conf_loss: 1.67618489 prob_loss: 13.1519413 total_loss 17.5145016\n",
      "grid: 34*26 iou_loss: 8.01144218 conf_loss: 14.7101574 prob_loss: 26.8593826 total_loss 49.580986\n",
      "grid: 17*13 iou_loss: 4.95376 conf_loss: 4.63897324 prob_loss: 17.3546524 total_loss 26.9473858\n",
      "grid: 34*26 iou_loss: 6.55678654 conf_loss: 10.9671621 prob_loss: 24.1856308 total_loss 41.7095795\n",
      "grid: 17*13 iou_loss: 4.08177948 conf_loss: 3.7554512 prob_loss: 14.8227615 total_loss 22.6599922\n",
      "grid: 34*26 iou_loss: 7.667696 conf_loss: 11.9225445 prob_loss: 30.5025768 total_loss 50.0928192\n",
      "grid: 17*13 iou_loss: 4.76130724 conf_loss: 2.69766951 prob_loss: 17.4255676 total_loss 24.8845444\n",
      "grid: 34*26 iou_loss: 5.73543262 conf_loss: 11.3899841 prob_loss: 25.6888218 total_loss 42.8142357\n",
      "grid: 17*13 iou_loss: 4.58529043 conf_loss: 4.39997101 prob_loss: 17.8241577 total_loss 26.8094196\n",
      "grid: 34*26 iou_loss: 4.40503311 conf_loss: 8.42787647 prob_loss: 20.0338821 total_loss 32.8667908\n",
      "grid: 17*13 iou_loss: 3.59515214 conf_loss: 2.41531682 prob_loss: 15.4339027 total_loss 21.4443722\n",
      "grid: 34*26 iou_loss: 3.24065709 conf_loss: 6.25800323 prob_loss: 18.6845779 total_loss 28.183239\n",
      "grid: 17*13 iou_loss: 3.09998918 conf_loss: 2.27988052 prob_loss: 14.6427803 total_loss 20.0226498\n",
      "grid: 34*26 iou_loss: 4.50964355 conf_loss: 8.48638916 prob_loss: 22.086731 total_loss 35.0827637\n",
      "grid: 17*13 iou_loss: 3.73639345 conf_loss: 2.15496325 prob_loss: 15.574852 total_loss 21.4662075\n",
      "grid: 34*26 iou_loss: 5.25453615 conf_loss: 8.7310648 prob_loss: 21.7387257 total_loss 35.7243271\n",
      "grid: 17*13 iou_loss: 2.79380369 conf_loss: 1.3166883 prob_loss: 12.9937391 total_loss 17.1042309\n",
      "grid: 34*26 iou_loss: 6.03229809 conf_loss: 10.5408134 prob_loss: 25.6994171 total_loss 42.2725296\n",
      "grid: 17*13 iou_loss: 4.11867428 conf_loss: 3.50134182 prob_loss: 17.4571724 total_loss 25.0771904\n",
      "grid: 34*26 iou_loss: 3.56049371 conf_loss: 7.09169 prob_loss: 17.8668327 total_loss 28.5190163\n",
      "grid: 17*13 iou_loss: 3.34756637 conf_loss: 3.05335283 prob_loss: 14.124342 total_loss 20.5252609\n",
      "grid: 34*26 iou_loss: 3.87345743 conf_loss: 8.2698555 prob_loss: 18.7471313 total_loss 30.8904438\n",
      "grid: 17*13 iou_loss: 3.25979233 conf_loss: 2.97639537 prob_loss: 14.3688068 total_loss 20.6049938\n",
      "grid: 34*26 iou_loss: 3.97195339 conf_loss: 7.84280396 prob_loss: 20.7677479 total_loss 32.5825043\n",
      "grid: 17*13 iou_loss: 3.42784214 conf_loss: 2.86896181 prob_loss: 15.0332298 total_loss 21.3300323\n",
      "grid: 34*26 iou_loss: 6.07308483 conf_loss: 11.3730564 prob_loss: 26.089592 total_loss 43.5357323\n",
      "grid: 17*13 iou_loss: 4.73960066 conf_loss: 3.80088472 prob_loss: 17.3781 total_loss 25.9185848\n",
      "grid: 34*26 iou_loss: 5.15386581 conf_loss: 9.84515762 prob_loss: 23.6461639 total_loss 38.6451874\n",
      "grid: 17*13 iou_loss: 4.08154917 conf_loss: 3.68369126 prob_loss: 18.9000397 total_loss 26.6652794\n",
      "grid: 34*26 iou_loss: 4.45989752 conf_loss: 9.26590729 prob_loss: 20.1975327 total_loss 33.923336\n",
      "grid: 17*13 iou_loss: 3.58683491 conf_loss: 5.42619276 prob_loss: 15.0901337 total_loss 24.1031609\n",
      "grid: 34*26 iou_loss: 4.27217484 conf_loss: 7.43233585 prob_loss: 20.2592793 total_loss 31.9637909\n",
      "grid: 17*13 iou_loss: 3.10007644 conf_loss: 1.59271193 prob_loss: 13.9309292 total_loss 18.6237183\n",
      "grid: 34*26 iou_loss: 5.43097305 conf_loss: 9.16203403 prob_loss: 23.5962639 total_loss 38.18927\n",
      "grid: 17*13 iou_loss: 3.863343 conf_loss: 2.00218725 prob_loss: 18.2413216 total_loss 24.1068516\n",
      "grid: 34*26 iou_loss: 7.32878351 conf_loss: 13.6801376 prob_loss: 30.458025 total_loss 51.4669456\n",
      "grid: 17*13 iou_loss: 5.31766748 conf_loss: 6.57134724 prob_loss: 22.270401 total_loss 34.1594162\n",
      "grid: 34*26 iou_loss: 4.7506094 conf_loss: 9.48332691 prob_loss: 20.8149662 total_loss 35.0489044\n",
      "grid: 17*13 iou_loss: 3.88169646 conf_loss: 3.41954255 prob_loss: 15.4971275 total_loss 22.7983665\n",
      "grid: 34*26 iou_loss: 3.14024305 conf_loss: 6.80754137 prob_loss: 17.0180988 total_loss 26.9658833\n",
      "grid: 17*13 iou_loss: 3.37136579 conf_loss: 2.61033368 prob_loss: 14.3075304 total_loss 20.2892303\n",
      "grid: 34*26 iou_loss: 2.40835857 conf_loss: 5.04129934 prob_loss: 15.1021652 total_loss 22.5518227\n",
      "grid: 17*13 iou_loss: 2.12224555 conf_loss: 1.20305562 prob_loss: 10.1225462 total_loss 13.4478474\n",
      "grid: 34*26 iou_loss: 3.0419333 conf_loss: 5.70860291 prob_loss: 19.610981 total_loss 28.361517\n",
      "grid: 17*13 iou_loss: 3.05246449 conf_loss: 1.33135939 prob_loss: 14.2812786 total_loss 18.6651039\n",
      "grid: 34*26 iou_loss: 4.38794661 conf_loss: 7.62912321 prob_loss: 19.8887634 total_loss 31.9058342\n",
      "grid: 17*13 iou_loss: 3.08935118 conf_loss: 1.81106496 prob_loss: 13.6130562 total_loss 18.5134716\n",
      "grid: 34*26 iou_loss: 4.035182 conf_loss: 6.00450325 prob_loss: 20.9020653 total_loss 30.9417496\n",
      "grid: 17*13 iou_loss: 2.89110708 conf_loss: 1.12509799 prob_loss: 14.0579081 total_loss 18.0741138\n"
     ]
    }
   ],
   "source": [
    "epochs = 40\n",
    "lr = 1e-6\n",
    "\n",
    "optimizer = optimizers.Adam(learning_rate=lr)\n",
    "yolo.compile(optimizer=optimizer, loss_iou_type=\"ciou\")\n",
    "\n",
    "def lr_scheduler(epoch):\n",
    "    if epoch < int(epochs * 0.5):\n",
    "        return lr\n",
    "    if epoch < int(epochs * 0.8):\n",
    "        return lr * 0.5\n",
    "    if epoch < int(epochs * 0.9):\n",
    "        return lr * 0.1\n",
    "    return lr * 0.01\n",
    "\n",
    "_callbacks = [\n",
    "    callbacks.LearningRateScheduler(lr_scheduler),\n",
    "    callbacks.TerminateOnNaN(),\n",
    "    callbacks.TensorBoard(\n",
    "        log_dir=\"yolov4_logs/logs\",\n",
    "    ),\n",
    "    SaveWeightsCallback(\n",
    "        yolo=yolo, dir_path=\"yolov4_logs/trained\",\n",
    "        weights_type=\"yolo\", epoch_per_save=10\n",
    "    ),\n",
    "]\n",
    "\n",
    "yolo.fit(\n",
    "    train_data_set,\n",
    "    epochs=epochs,\n",
    "    callbacks=_callbacks,\n",
    "    validation_data=val_data_set,\n",
    "    validation_steps=25,\n",
    "    validation_freq=5,\n",
    "    steps_per_epoch=100,\n",
    ")"
   ]
  },
  {
   "cell_type": "code",
   "execution_count": 19,
   "metadata": {},
   "outputs": [
    {
     "name": "stdout",
     "output_type": "stream",
     "text": [
      "INFO:tensorflow:Assets written to: /tmp/tmp60e9drax/assets\n"
     ]
    },
    {
     "name": "stderr",
     "output_type": "stream",
     "text": [
      "INFO:tensorflow:Assets written to: /tmp/tmp60e9drax/assets\n"
     ]
    }
   ],
   "source": [
    "yolo.save_as_tflite(\"yolov4_416x550_fruits_80epochs.tflite\")\n"
   ]
  },
  {
   "cell_type": "code",
   "execution_count": 20,
   "metadata": {},
   "outputs": [],
   "source": [
    "yolo.save_dataset_for_mAP(\"yolov4_map/mAP-master\", val_data_set)"
   ]
  },
  {
   "cell_type": "code",
   "execution_count": 17,
   "metadata": {},
   "outputs": [
    {
     "name": "stdout",
     "output_type": "stream",
     "text": [
      "time: 67.79 ms\n",
      "YOLOv4: Inference is finished\n"
     ]
    },
    {
     "ename": "KeyboardInterrupt",
     "evalue": "",
     "output_type": "error",
     "traceback": [
      "\u001b[0;31m---------------------------------------------------------------------------\u001b[0m",
      "\u001b[0;31mKeyboardInterrupt\u001b[0m                         Traceback (most recent call last)",
      "\u001b[0;32m<ipython-input-17-223c31b60438>\u001b[0m in \u001b[0;36m<module>\u001b[0;34m\u001b[0m\n\u001b[0;32m----> 1\u001b[0;31m \u001b[0myolo\u001b[0m\u001b[0;34m.\u001b[0m\u001b[0minference\u001b[0m\u001b[0;34m(\u001b[0m\u001b[0mmedia_path\u001b[0m\u001b[0;34m=\u001b[0m\u001b[0;34m\"../data/fruits-360/test-multiple_fruits/apple_apricot_nectarine_peach_peach(flat)_pomegranate_pear_plum.jpg\"\u001b[0m\u001b[0;34m)\u001b[0m\u001b[0;34m\u001b[0m\u001b[0;34m\u001b[0m\u001b[0m\n\u001b[0m",
      "\u001b[0;32m~/.local/lib/python3.6/site-packages/yolov4/common/base_class.py\u001b[0m in \u001b[0;36minference\u001b[0;34m(self, media_path, is_image, cv_apiPreference, cv_frame_size, cv_fourcc, cv_waitKey_delay, iou_threshold, score_threshold)\u001b[0m\n\u001b[1;32m    320\u001b[0m \u001b[0;34m\u001b[0m\u001b[0m\n\u001b[1;32m    321\u001b[0m         \u001b[0mprint\u001b[0m\u001b[0;34m(\u001b[0m\u001b[0;34m\"YOLOv4: Inference is finished\"\u001b[0m\u001b[0;34m)\u001b[0m\u001b[0;34m\u001b[0m\u001b[0;34m\u001b[0m\u001b[0m\n\u001b[0;32m--> 322\u001b[0;31m         \u001b[0;32mwhile\u001b[0m \u001b[0mcv2\u001b[0m\u001b[0;34m.\u001b[0m\u001b[0mwaitKey\u001b[0m\u001b[0;34m(\u001b[0m\u001b[0;36m10\u001b[0m\u001b[0;34m)\u001b[0m \u001b[0;34m&\u001b[0m \u001b[0;36m0xFF\u001b[0m \u001b[0;34m!=\u001b[0m \u001b[0mord\u001b[0m\u001b[0;34m(\u001b[0m\u001b[0;34m\"q\"\u001b[0m\u001b[0;34m)\u001b[0m\u001b[0;34m:\u001b[0m\u001b[0;34m\u001b[0m\u001b[0;34m\u001b[0m\u001b[0m\n\u001b[0m\u001b[1;32m    323\u001b[0m             \u001b[0;32mpass\u001b[0m\u001b[0;34m\u001b[0m\u001b[0;34m\u001b[0m\u001b[0m\n\u001b[1;32m    324\u001b[0m         \u001b[0mcv2\u001b[0m\u001b[0;34m.\u001b[0m\u001b[0mdestroyWindow\u001b[0m\u001b[0;34m(\u001b[0m\u001b[0;34m\"result\"\u001b[0m\u001b[0;34m)\u001b[0m\u001b[0;34m\u001b[0m\u001b[0;34m\u001b[0m\u001b[0m\n",
      "\u001b[0;31mKeyboardInterrupt\u001b[0m: "
     ]
    }
   ],
   "source": [
    "yolo.inference(media_path=\"../data/fruits-360/test-multiple_fruits/apple_apricot_nectarine_peach_peach(flat)_pomegranate_pear_plum.jpg\")"
   ]
  },
  {
   "cell_type": "code",
   "execution_count": 18,
   "metadata": {},
   "outputs": [],
   "source": []
  },
  {
   "cell_type": "code",
   "execution_count": null,
   "metadata": {},
   "outputs": [],
   "source": []
  }
 ],
 "metadata": {
  "kernelspec": {
   "display_name": "Python 3",
   "language": "python",
   "name": "python3"
  },
  "language_info": {
   "codemirror_mode": {
    "name": "ipython",
    "version": 3
   },
   "file_extension": ".py",
   "mimetype": "text/x-python",
   "name": "python",
   "nbconvert_exporter": "python",
   "pygments_lexer": "ipython3",
   "version": "3.8.3"
  }
 },
 "nbformat": 4,
 "nbformat_minor": 2
}
