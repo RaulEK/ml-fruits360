{
 "cells": [
  {
   "cell_type": "code",
   "execution_count": 1,
   "metadata": {},
   "outputs": [
    {
     "name": "stderr",
     "output_type": "stream",
     "text": [
      "Using TensorFlow backend.\n"
     ]
    }
   ],
   "source": [
    "import os\n",
    "from pathlib import Path\n",
    "import numpy as np\n",
    "from keras.preprocessing.image import ImageDataGenerator\n",
    "import tensorflow as tf\n",
    "from tensorflow.keras.applications import EfficientNetB0\n",
    "from tensorflow.keras import layers\n",
    "from tensorflow.keras.models import Sequential\n",
    "from tensorflow.keras.layers import Conv2D, MaxPooling2D\n",
    "from tensorflow.keras.layers import Activation, Dropout, Flatten, Dense\n",
    "from keras import backend as K\n",
    "\n",
    "path = '../mergedData/'\n",
    "\n",
    "image_gen = ImageDataGenerator(validation_split=0.3)"
   ]
  },
  {
   "cell_type": "code",
   "execution_count": 8,
   "metadata": {},
   "outputs": [],
   "source": [
    "# here we have variables\n",
    "dim_x, dim_y = 224,224\n",
    "epochs = 10\n",
    "batch_size=16 # 64\n",
    "input_shape = (dim_x,dim_y,3) # miks see 3 siin??"
   ]
  },
  {
   "cell_type": "code",
   "execution_count": 9,
   "metadata": {},
   "outputs": [],
   "source": [
    "# here we have the model \n",
    "model = Sequential()\n",
    "model.add(Conv2D(32, (3, 3), input_shape=input_shape))\n",
    "model.add(Activation('relu'))\n",
    "model.add(MaxPooling2D(pool_size=(2, 2)))\n",
    "\n",
    "model.add(Conv2D(32, (3, 3)))\n",
    "model.add(Activation('relu'))\n",
    "model.add(MaxPooling2D(pool_size=(2, 2)))\n",
    "\n",
    "model.add(Conv2D(64, (3, 3)))\n",
    "model.add(Activation('relu'))\n",
    "model.add(MaxPooling2D(pool_size=(2, 2)))\n",
    "\n",
    "model.add(Flatten())\n",
    "model.add(Dense(64))\n",
    "model.add(Activation('relu'))\n",
    "model.add(Dropout(0.5))\n",
    "model.add(Dense(1))\n",
    "model.add(Activation('sigmoid'))\n",
    "\n",
    "model.compile(loss='binary_crossentropy',\n",
    "              optimizer='rmsprop',\n",
    "              metrics=['accuracy'])"
   ]
  },
  {
   "cell_type": "code",
   "execution_count": 4,
   "metadata": {},
   "outputs": [
    {
     "name": "stdout",
     "output_type": "stream",
     "text": [
      "Found 27680 images belonging to 67 classes.\n",
      "Found 11833 images belonging to 67 classes.\n",
      "Found 16999 images belonging to 67 classes.\n"
     ]
    }
   ],
   "source": [
    "train_generator = image_gen.flow_from_directory(\n",
    "    path + \"Training\", target_size=(224, 224),batch_size=batch_size, class_mode='categorical', subset='training')\n",
    "\n",
    "val_generator = image_gen.flow_from_directory(\n",
    "    path + \"Training\", target_size=(224, 224),batch_size=batch_size, class_mode='categorical', subset='validation')\n",
    "\n",
    "test_generator = image_gen.flow_from_directory(\n",
    "    path + \"Test\", target_size=(224, 224),batch_size=batch_size, class_mode='categorical')\n"
   ]
  },
  {
   "cell_type": "code",
   "execution_count": 11,
   "metadata": {},
   "outputs": [
    {
     "name": "stdout",
     "output_type": "stream",
     "text": [
      "Epoch 1/10\n",
      "100/100 [==============================] - 67s 669ms/step - loss: 0.7315 - accuracy: 0.9639 - val_loss: 0.0917 - val_accuracy: 0.9851\n",
      "Epoch 2/10\n",
      "100/100 [==============================] - 77s 773ms/step - loss: 0.1839 - accuracy: 0.9833 - val_loss: 0.8098 - val_accuracy: 0.9851\n",
      "Epoch 3/10\n",
      "100/100 [==============================] - 73s 730ms/step - loss: 0.1714 - accuracy: 0.9833 - val_loss: 0.0821 - val_accuracy: 0.9851\n",
      "Epoch 4/10\n",
      "100/100 [==============================] - 82s 816ms/step - loss: 0.1344 - accuracy: 0.9851 - val_loss: 0.0813 - val_accuracy: 0.9851\n",
      "Epoch 5/10\n",
      "100/100 [==============================] - 65s 653ms/step - loss: 0.1225 - accuracy: 0.9851 - val_loss: 0.0784 - val_accuracy: 0.9851\n",
      "Epoch 6/10\n",
      "100/100 [==============================] - 79s 788ms/step - loss: 0.1188 - accuracy: 0.9845 - val_loss: 0.0854 - val_accuracy: 0.9851\n",
      "Epoch 7/10\n",
      "100/100 [==============================] - 79s 791ms/step - loss: 0.1257 - accuracy: 0.9851 - val_loss: 0.0831 - val_accuracy: 0.9851\n",
      "Epoch 8/10\n",
      "100/100 [==============================] - 69s 690ms/step - loss: 0.1208 - accuracy: 0.9851 - val_loss: 0.0815 - val_accuracy: 0.9851\n",
      "Epoch 9/10\n",
      "100/100 [==============================] - 64s 642ms/step - loss: 0.1184 - accuracy: 0.9851 - val_loss: 0.0778 - val_accuracy: 0.9851\n",
      "Epoch 10/10\n",
      "100/100 [==============================] - 60s 600ms/step - loss: 0.1151 - accuracy: 0.9851 - val_loss: 0.0824 - val_accuracy: 0.9851\n"
     ]
    },
    {
     "data": {
      "text/plain": [
       "<tensorflow.python.keras.callbacks.History at 0x7fa0e0344518>"
      ]
     },
     "execution_count": 11,
     "metadata": {},
     "output_type": "execute_result"
    }
   ],
   "source": [
    "model.fit_generator(\n",
    "        train_generator,\n",
    "        steps_per_epoch=100,\n",
    "        epochs=10,\n",
    "        validation_data=val_generator,\n",
    "        validation_steps=100)"
   ]
  },
  {
   "cell_type": "code",
   "execution_count": 12,
   "metadata": {},
   "outputs": [
    {
     "name": "stdout",
     "output_type": "stream",
     "text": [
      "1063/1063 [==============================] - 169s 159ms/step - loss: 0.0824 - accuracy: 0.9851\n",
      "[0.08236528187990189, 0.9850624203681946]\n"
     ]
    }
   ],
   "source": [
    "results = model.evaluate(test_generator)\n",
    "print(results)"
   ]
  }
 ],
 "metadata": {
  "kernelspec": {
   "display_name": "Python 3",
   "language": "python",
   "name": "python3"
  },
  "language_info": {
   "codemirror_mode": {
    "name": "ipython",
    "version": 3
   },
   "file_extension": ".py",
   "mimetype": "text/x-python",
   "name": "python",
   "nbconvert_exporter": "python",
   "pygments_lexer": "ipython3",
   "version": "3.7.3"
  }
 },
 "nbformat": 4,
 "nbformat_minor": 2
}
